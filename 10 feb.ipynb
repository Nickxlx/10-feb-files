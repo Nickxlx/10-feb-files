{
 "cells": [
  {
   "cell_type": "markdown",
   "id": "13f67fac-60bd-406b-a905-9e47228181b0",
   "metadata": {},
   "source": [
    "Q1. Which function is used to open a file? What are the different modes of opening a file? Explain each mode\n",
    "of file opening.\n",
    "\n",
    "Answer--> In Python, the open() function is used to open a file. This function takes in two parameters: the first parameter is the file path, and the second parameter is the mode in which the file is to be opened.\n",
    "\n",
    "The different modes of opening a file in Python are:\n",
    "\n",
    "1 \"r\" mode: This mode is used to read a file. It is the default mode, so if no mode is specified, the file is opened in read mode. In this mode, the file pointer is placed at the beginning of the file.\n",
    "\n",
    "2 \"w\" mode: This mode is used to write to a file. If the file already exists, its contents are truncated. If the file does not exist, a new file is created. In this mode, the file pointer is placed at the beginning of the file.\n",
    "\n",
    "3 \"a\" mode: This mode is used to append to a file. If the file already exists, new data is written to the end of the file. If the file does not exist, a new file is created. In this mode, the file pointer is placed at the end of the file.\n",
    "\n",
    "4 \"x\" mode: This mode is used to create a new file and open it for writing. If the file already exists, a FileExistsError is raised.\n",
    "\n",
    "5 \"b\" mode: This mode is used to open a file in binary mode. This is used when reading or writing binary data such as images or audio files.\n",
    "\n",
    "6 \"t\" mode: This mode is used to open a file in text mode. This is used when reading or writing text data such as a .txt file.\n",
    "\n",
    "7 \"+\" mode: This mode is used to open a file for both reading and writing. This is useful when you need to both read and write to the same file.\n",
    "\n",
    "You can also combine different modes by using them together. For example, \"rb\" mode is used to open a file in binary mode for reading."
   ]
  },
  {
   "cell_type": "code",
   "execution_count": null,
   "id": "66405d88-1fcd-4430-903e-a2986169ab00",
   "metadata": {},
   "outputs": [],
   "source": []
  },
  {
   "cell_type": "markdown",
   "id": "7689aef2-a2d9-4ab5-82b1-468db1f8e73f",
   "metadata": {},
   "source": [
    "Q2. Why close() function is used? Why is it important to close a file?\n",
    "\n",
    "Answer--> In Python, the close() function is used to close an open file. It is important to close a file after you're done working with it, because  When you write to a file, the changes you make are typically stored in a buffer in memory. The close() function ensures that any changes in the buffer are written to the file before it is closed. If you don't close the file, any changes you made may be lost."
   ]
  },
  {
   "cell_type": "code",
   "execution_count": null,
   "id": "adc55c73-0a2f-4d38-a6cb-b2d5b7a54455",
   "metadata": {},
   "outputs": [],
   "source": []
  },
  {
   "cell_type": "markdown",
   "id": "bae5047d-11d7-4057-8677-c912f67054d6",
   "metadata": {},
   "source": [
    "Q3. Write a python program to create a text file. Write ‘I want to become a Data Scientist’ in that file. Then\n",
    "close the file. Open this file and read the content of the file."
   ]
  },
  {
   "cell_type": "code",
   "execution_count": 11,
   "id": "ac85e92e-fb4e-4768-9531-c6754a983da2",
   "metadata": {},
   "outputs": [],
   "source": [
    "f = open(\"test.txt\", \"w\") "
   ]
  },
  {
   "cell_type": "code",
   "execution_count": 12,
   "id": "b0779056-0eac-4399-908f-eac5289730f9",
   "metadata": {},
   "outputs": [
    {
     "data": {
      "text/plain": [
       "33"
      ]
     },
     "execution_count": 12,
     "metadata": {},
     "output_type": "execute_result"
    }
   ],
   "source": [
    "f.write(\"I want to become a Data Scientist\")"
   ]
  },
  {
   "cell_type": "code",
   "execution_count": 13,
   "id": "6d3b4f8e-3521-47f4-bf99-2e0cc89056e3",
   "metadata": {},
   "outputs": [],
   "source": [
    "f.close()"
   ]
  },
  {
   "cell_type": "code",
   "execution_count": 14,
   "id": "173bf530-149e-4b86-afe5-7a03225c1525",
   "metadata": {},
   "outputs": [
    {
     "name": "stdout",
     "output_type": "stream",
     "text": [
      "I want to become a Data Scientist\n"
     ]
    }
   ],
   "source": [
    "with open(\"test.txt\", \"r\") as f:\n",
    "    print(f.read())"
   ]
  },
  {
   "cell_type": "code",
   "execution_count": null,
   "id": "d2e6274d-b40b-4804-b9b1-a20ad4dc4f93",
   "metadata": {},
   "outputs": [],
   "source": []
  },
  {
   "cell_type": "markdown",
   "id": "a6a6ac5d-7d5f-4fd0-8653-23e9ece6fe1e",
   "metadata": {},
   "source": [
    "Q4. Explain the following with python code: read(), readline() and readlines()."
   ]
  },
  {
   "cell_type": "code",
   "execution_count": 26,
   "id": "412073d3-36f6-41cc-ad0c-76c327e1fb0b",
   "metadata": {},
   "outputs": [],
   "source": [
    "with open(\"example.txt\", \"w\") as file:\n",
    "    content = file.write(\"The Japanese fire-bellied newt (Cynops pyrrhogaster) consists of four distinct varieties, formally recognized together as a single species. Its upper body is dark and its lower regions bright red; coloration varies with age, genetics, and region. Adults are 8 to 15 cm (3 to 6 in) long. They are found on many Japanese islands. Their habitats include bodies of water, forests, and grasslands. They breed from spring to the beginning of summer. Eggs are laid separately, hatching after about three weeks. They grow from larval to juvenile form in five to six months. Juveniles eat soil-dwelling prey; adults eat insects, tadpoles, and the eggs of their own species. They have multiple adaptations to avoid predators, including containing tetrodotoxin, a neurotoxin. Several aspects of their biology have been studied, including their ability to regrow lost body parts. Currently, their population is declining, and they face threats from disease and the pet trade. They can be successfully kept in captivity. (Full article...)\")\n",
    "  "
   ]
  },
  {
   "cell_type": "markdown",
   "id": "e0ffec92-daad-4a10-8ff1-f2a5ac6d97f3",
   "metadata": {},
   "source": [
    "1 read(): The read() method is used to read the entire contents of a file as a single string. Here's an example:"
   ]
  },
  {
   "cell_type": "code",
   "execution_count": 27,
   "id": "2329fdcb-388d-4a2c-b124-fefddb1bdb41",
   "metadata": {},
   "outputs": [
    {
     "name": "stdout",
     "output_type": "stream",
     "text": [
      "The Japanese fire-bellied newt (Cynops pyrrhogaster) consists of four distinct varieties, formally recognized together as a single species. Its upper body is dark and its lower regions bright red; coloration varies with age, genetics, and region. Adults are 8 to 15 cm (3 to 6 in) long. They are found on many Japanese islands. Their habitats include bodies of water, forests, and grasslands. They breed from spring to the beginning of summer. Eggs are laid separately, hatching after about three weeks. They grow from larval to juvenile form in five to six months. Juveniles eat soil-dwelling prey; adults eat insects, tadpoles, and the eggs of their own species. They have multiple adaptations to avoid predators, including containing tetrodotoxin, a neurotoxin. Several aspects of their biology have been studied, including their ability to regrow lost body parts. Currently, their population is declining, and they face threats from disease and the pet trade. They can be successfully kept in captivity. (Full article...)\n"
     ]
    }
   ],
   "source": [
    "with open(\"example.txt\", \"r\") as file:\n",
    "    content = file.read()\n",
    "    print(content)"
   ]
  },
  {
   "cell_type": "code",
   "execution_count": null,
   "id": "63103c87-67d8-404b-8542-9888c1e0a60d",
   "metadata": {},
   "outputs": [],
   "source": []
  },
  {
   "cell_type": "markdown",
   "id": "6251f009-5262-4076-bd2f-8dc19ee6b6ab",
   "metadata": {},
   "source": [
    "2 readline(): The readline() method is used to read a single line from a file. Here's an example:"
   ]
  },
  {
   "cell_type": "code",
   "execution_count": 28,
   "id": "c5c542a4-e159-4354-8bea-9648ffc19681",
   "metadata": {},
   "outputs": [
    {
     "name": "stdout",
     "output_type": "stream",
     "text": [
      "The Japanese fire-bellied newt (Cynops pyrrhogaster) consists of four distinct varieties, formally recognized together as a single species. Its upper body is dark and its lower regions bright red; coloration varies with age, genetics, and region. Adults are 8 to 15 cm (3 to 6 in) long. They are found on many Japanese islands. Their habitats include bodies of water, forests, and grasslands. They breed from spring to the beginning of summer. Eggs are laid separately, hatching after about three weeks. They grow from larval to juvenile form in five to six months. Juveniles eat soil-dwelling prey; adults eat insects, tadpoles, and the eggs of their own species. They have multiple adaptations to avoid predators, including containing tetrodotoxin, a neurotoxin. Several aspects of their biology have been studied, including their ability to regrow lost body parts. Currently, their population is declining, and they face threats from disease and the pet trade. They can be successfully kept in captivity. (Full article...)\n",
      "\n"
     ]
    }
   ],
   "source": [
    "with open(\"example.txt\", \"r\") as file:\n",
    "    line1 = file.readline()\n",
    "    line2 = file.readline()\n",
    "    print(line1)\n",
    "    print(line2)"
   ]
  },
  {
   "cell_type": "code",
   "execution_count": null,
   "id": "93247c46-0a9e-4658-ab28-e0ec9988ebbc",
   "metadata": {},
   "outputs": [],
   "source": []
  },
  {
   "cell_type": "markdown",
   "id": "a2686c0c-a61b-4556-8e80-439c2c6058b4",
   "metadata": {},
   "source": [
    "3 readlines(): The readlines() method is used to read the entire contents of a file into a list of strings, with each string representing a single line from the file. Here's an example:"
   ]
  },
  {
   "cell_type": "code",
   "execution_count": 29,
   "id": "3fb5c3a0-7838-4d81-b099-9f546dee8e74",
   "metadata": {},
   "outputs": [
    {
     "name": "stdout",
     "output_type": "stream",
     "text": [
      "The Japanese fire-bellied newt (Cynops pyrrhogaster) consists of four distinct varieties, formally recognized together as a single species. Its upper body is dark and its lower regions bright red; coloration varies with age, genetics, and region. Adults are 8 to 15 cm (3 to 6 in) long. They are found on many Japanese islands. Their habitats include bodies of water, forests, and grasslands. They breed from spring to the beginning of summer. Eggs are laid separately, hatching after about three weeks. They grow from larval to juvenile form in five to six months. Juveniles eat soil-dwelling prey; adults eat insects, tadpoles, and the eggs of their own species. They have multiple adaptations to avoid predators, including containing tetrodotoxin, a neurotoxin. Several aspects of their biology have been studied, including their ability to regrow lost body parts. Currently, their population is declining, and they face threats from disease and the pet trade. They can be successfully kept in captivity. (Full article...)\n"
     ]
    }
   ],
   "source": [
    "with open(\"example.txt\", \"r\") as file:\n",
    "    lines = file.readlines()\n",
    "    for line in lines:\n",
    "        print(line)"
   ]
  },
  {
   "cell_type": "code",
   "execution_count": null,
   "id": "2cd9f22b-b3bb-4f1a-9bf9-6139f3484e42",
   "metadata": {},
   "outputs": [],
   "source": []
  },
  {
   "cell_type": "markdown",
   "id": "4f8bea39-f3f8-445f-8b0f-6917fe471e09",
   "metadata": {},
   "source": [
    "Q5. Explain why with statement is used with open(). What is the advantage of using with statement and\n",
    "open() together?\n",
    "\n",
    "\n",
    "Answer--> In Python, the with statement is used with the open() function to provide a convenient way to handle files. The with statement creates a context in which the file is open, and once the block of code inside the with statement is executed, the file is automatically closed. This means that you don't have to worry about closing the file manually,"
   ]
  },
  {
   "cell_type": "code",
   "execution_count": null,
   "id": "c212b70a-d3f8-41e4-a7a0-06ccec72903d",
   "metadata": {},
   "outputs": [],
   "source": []
  },
  {
   "cell_type": "markdown",
   "id": "af564a2b-f31a-474e-b57c-6ee5fefd45c4",
   "metadata": {},
   "source": [
    "Q6. Explain the write() and writelines() functions. Give a suitable example.\n",
    "\n",
    "Answer--> The write() function writes a string to a file. It takes a single argument, which is the string that you want to write. If the file does not exist, it will be created. If the file already exists, the write() function will overwrite its contents.\n",
    "\n",
    "The writelines() function is similar to write(), but it takes a list of strings instead of a single string. Each string in the list is to the file one by one . \n",
    "Here's an example:"
   ]
  },
  {
   "cell_type": "code",
   "execution_count": 24,
   "id": "9315e5d9-9a12-43ad-8af7-d58ace46f654",
   "metadata": {},
   "outputs": [],
   "source": [
    "# using write() function\n",
    "with open(\"example.txt\", \"w\") as f:\n",
    "    f.write(\"Hello World!\\n\")\n",
    "    f.write(\"This is an example file.\\n\")\n",
    "    f.write(\"Writing data to files is easy.\")\n",
    "\n",
    "# using writelines() function\n",
    "with open(\"example.txt\", \"w\") as f:\n",
    "    lines = [\"Hello World!\\n\", \"This is an example file.\\n\", \"Writing data to files is easy.\"]\n",
    "    f.writelines(lines)"
   ]
  },
  {
   "cell_type": "code",
   "execution_count": null,
   "id": "4dd09b1e-82c4-4299-ade4-e0e9cee4ce44",
   "metadata": {},
   "outputs": [],
   "source": []
  },
  {
   "cell_type": "code",
   "execution_count": null,
   "id": "abc9441c-5bba-4aca-92fe-3592067afab2",
   "metadata": {},
   "outputs": [],
   "source": []
  }
 ],
 "metadata": {
  "kernelspec": {
   "display_name": "Python 3 (ipykernel)",
   "language": "python",
   "name": "python3"
  },
  "language_info": {
   "codemirror_mode": {
    "name": "ipython",
    "version": 3
   },
   "file_extension": ".py",
   "mimetype": "text/x-python",
   "name": "python",
   "nbconvert_exporter": "python",
   "pygments_lexer": "ipython3",
   "version": "3.10.8"
  }
 },
 "nbformat": 4,
 "nbformat_minor": 5
}
